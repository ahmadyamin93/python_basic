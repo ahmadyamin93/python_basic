{
 "cells": [
  {
   "cell_type": "markdown",
   "id": "ecc4a1c7",
   "metadata": {},
   "source": [
    "# Basic Python"
   ]
  },
  {
   "cell_type": "markdown",
   "id": "36586a73",
   "metadata": {},
   "source": [
    "## Variables and Data Types "
   ]
  },
  {
   "cell_type": "code",
   "execution_count": 1,
   "id": "3a3895ce",
   "metadata": {},
   "outputs": [
    {
     "name": "stdout",
     "output_type": "stream",
     "text": [
      "142662\n"
     ]
    },
    {
     "data": {
      "text/plain": [
       "int"
      ]
     },
     "execution_count": 1,
     "metadata": {},
     "output_type": "execute_result"
    }
   ],
   "source": [
    "#Integer\n",
    "qty = 142662\n",
    "print(qty)\n",
    "type(qty)"
   ]
  },
  {
   "cell_type": "code",
   "execution_count": 2,
   "id": "c1627931",
   "metadata": {},
   "outputs": [
    {
     "name": "stdout",
     "output_type": "stream",
     "text": [
      "87.5\n"
     ]
    },
    {
     "data": {
      "text/plain": [
       "float"
      ]
     },
     "execution_count": 2,
     "metadata": {},
     "output_type": "execute_result"
    }
   ],
   "source": [
    "#Float\n",
    "var1 = 87.5\n",
    "print(var1)\n",
    "type(var1)"
   ]
  },
  {
   "cell_type": "code",
   "execution_count": 3,
   "id": "d73bf626",
   "metadata": {},
   "outputs": [
    {
     "name": "stdout",
     "output_type": "stream",
     "text": [
      "Welcome\n"
     ]
    },
    {
     "data": {
      "text/plain": [
       "str"
      ]
     },
     "execution_count": 3,
     "metadata": {},
     "output_type": "execute_result"
    }
   ],
   "source": [
    "#String\n",
    "var_text = 'Welcome'\n",
    "print(var_text)\n",
    "type(var_text)"
   ]
  },
  {
   "cell_type": "code",
   "execution_count": 4,
   "id": "cad3087e",
   "metadata": {},
   "outputs": [
    {
     "name": "stdout",
     "output_type": "stream",
     "text": [
      "True\n",
      "False\n"
     ]
    }
   ],
   "source": [
    "#Boolean\n",
    "variabel_1 = True\n",
    "variabel_2 = False\n",
    "print(variabel_1)\n",
    "print(variabel_2)"
   ]
  },
  {
   "cell_type": "markdown",
   "id": "d32769f5",
   "metadata": {},
   "source": [
    "## Typecasting "
   ]
  },
  {
   "cell_type": "code",
   "execution_count": 5,
   "id": "9cbce3bb",
   "metadata": {},
   "outputs": [
    {
     "data": {
      "text/plain": [
       "str"
      ]
     },
     "execution_count": 5,
     "metadata": {},
     "output_type": "execute_result"
    }
   ],
   "source": [
    "#Integer to String\n",
    "qty_str = str(qty)\n",
    "type(qty_str)"
   ]
  },
  {
   "cell_type": "code",
   "execution_count": 6,
   "id": "0a74c6ab",
   "metadata": {},
   "outputs": [
    {
     "name": "stdout",
     "output_type": "stream",
     "text": [
      "<class 'float'>\n"
     ]
    }
   ],
   "source": [
    "#Integer to Float\n",
    "qty_float = float(qty)\n",
    "print(type(qty_float))"
   ]
  },
  {
   "cell_type": "markdown",
   "id": "b10c8097",
   "metadata": {},
   "source": [
    "## Data Structure "
   ]
  },
  {
   "cell_type": "markdown",
   "id": "5f92acf4",
   "metadata": {},
   "source": [
    "### List"
   ]
  },
  {
   "cell_type": "code",
   "execution_count": 7,
   "id": "a5637ae7",
   "metadata": {},
   "outputs": [
    {
     "name": "stdout",
     "output_type": "stream",
     "text": [
      "['Red', 'Green', 'White', 'Black']\n"
     ]
    }
   ],
   "source": [
    "color_list = [\"Red\",\"Green\",\"White\" ,\"Black\"]\n",
    "print(color_list)"
   ]
  },
  {
   "cell_type": "code",
   "execution_count": 8,
   "id": "111f5510",
   "metadata": {},
   "outputs": [
    {
     "name": "stdout",
     "output_type": "stream",
     "text": [
      "Red\n",
      "Black\n"
     ]
    }
   ],
   "source": [
    "#indexing\n",
    "#start from 0\n",
    "print(color_list[0])\n",
    "print(color_list[3])"
   ]
  },
  {
   "cell_type": "code",
   "execution_count": 9,
   "id": "8ea545aa",
   "metadata": {},
   "outputs": [
    {
     "name": "stdout",
     "output_type": "stream",
     "text": [
      "[50, 23, 18, 17, 5, 11]\n"
     ]
    }
   ],
   "source": [
    "#reverse list\n",
    "lst = [11, 5, 17, 18, 23, 50]\n",
    "#Reverse List\n",
    "reverse = lst[::-1]\n",
    "print(reverse)"
   ]
  },
  {
   "cell_type": "code",
   "execution_count": 10,
   "id": "1b9e4a4b",
   "metadata": {},
   "outputs": [
    {
     "name": "stdout",
     "output_type": "stream",
     "text": [
      "[11, 50]\n"
     ]
    }
   ],
   "source": [
    "#remove list\n",
    "lst = [11, 5, 17, 18, 23, 50]\n",
    "del(lst[1:5])\n",
    "print(lst)"
   ]
  },
  {
   "cell_type": "markdown",
   "id": "0020cb12",
   "metadata": {},
   "source": [
    "### Tuples "
   ]
  },
  {
   "cell_type": "code",
   "execution_count": 11,
   "id": "be1acc1f",
   "metadata": {},
   "outputs": [
    {
     "name": "stdout",
     "output_type": "stream",
     "text": [
      "(20, 30)\n"
     ]
    }
   ],
   "source": [
    "tuple1 = (10, 20, 30, 40, 50)\n",
    "print(tuple1[1:3])"
   ]
  },
  {
   "cell_type": "code",
   "execution_count": 12,
   "id": "e3e30527",
   "metadata": {},
   "outputs": [
    {
     "name": "stdout",
     "output_type": "stream",
     "text": [
      "(50, 40, 30, 20, 10)\n"
     ]
    }
   ],
   "source": [
    "#reverse tuples\n",
    "print(tuple1[::-1])"
   ]
  },
  {
   "cell_type": "markdown",
   "id": "8cffdd1f",
   "metadata": {},
   "source": [
    "### Dictionary "
   ]
  },
  {
   "cell_type": "code",
   "execution_count": 13,
   "id": "92923fb8",
   "metadata": {},
   "outputs": [],
   "source": [
    "d1 = {'a': 100, 'b': 200, 'c':300}\n",
    "d2 = {'a': 300, 'b': 200, 'd':400}"
   ]
  },
  {
   "cell_type": "code",
   "execution_count": 14,
   "id": "773c674a",
   "metadata": {},
   "outputs": [
    {
     "name": "stdout",
     "output_type": "stream",
     "text": [
      "dict_keys(['a', 'b', 'c'])\n",
      "dict_values([100, 200, 300])\n",
      "dict_items([('a', 100), ('b', 200), ('c', 300)])\n"
     ]
    }
   ],
   "source": [
    "#access dictionary\n",
    "print(d1.keys())\n",
    "print(d1.values())\n",
    "print(d1.items())"
   ]
  },
  {
   "cell_type": "code",
   "execution_count": 15,
   "id": "5d0e9133",
   "metadata": {},
   "outputs": [
    {
     "name": "stdout",
     "output_type": "stream",
     "text": [
      "{'a': 100, 'b': 200, 'x': 300, 'y': 200}\n"
     ]
    }
   ],
   "source": [
    "#combine dictionary\n",
    "d1 = {'a': 100, 'b': 200}\n",
    "d2 = {'x': 300, 'y': 200}\n",
    "d3 = dict(d1)\n",
    "d3.update(d2)\n",
    "print(d3)"
   ]
  },
  {
   "cell_type": "code",
   "execution_count": 16,
   "id": "7e27aa29",
   "metadata": {},
   "outputs": [
    {
     "name": "stdout",
     "output_type": "stream",
     "text": [
      "{'a': 400, 'b': 400, 'c': 300, 'd': 400}\n"
     ]
    }
   ],
   "source": [
    "#combine dictionary with same value added\n",
    "d1 = {'a': 100, 'b': 200, 'c':300}\n",
    "d2 = {'a': 300, 'b': 200, 'd':400}\n",
    "d3 = dict(d1) \n",
    "d3.update(d2)\n",
    "for i, j in d1.items():\n",
    "    for x, y in d2.items():\n",
    "        if i == x:\n",
    "            d3[i]=(j+y)\n",
    "print(d3)"
   ]
  },
  {
   "cell_type": "code",
   "execution_count": 17,
   "id": "f6e79d25",
   "metadata": {},
   "outputs": [
    {
     "name": "stdout",
     "output_type": "stream",
     "text": [
      "Counter({'a': 400, 'b': 400, 'd': 400, 'c': 300})\n"
     ]
    }
   ],
   "source": [
    "#another way to combine dictionary\n",
    "from collections import Counter\n",
    "\n",
    "d4= Counter (d1) + Counter(d2)\n",
    "print(d4)"
   ]
  },
  {
   "cell_type": "markdown",
   "id": "6d7d196e",
   "metadata": {},
   "source": [
    "### Set "
   ]
  },
  {
   "cell_type": "code",
   "execution_count": 18,
   "id": "9344fa4b",
   "metadata": {},
   "outputs": [],
   "source": [
    "set1 = {10, 20, 30, 40, 50}\n",
    "set2 = {30, 40, 50, 60, 70}"
   ]
  },
  {
   "cell_type": "code",
   "execution_count": 19,
   "id": "d43e9a98",
   "metadata": {},
   "outputs": [
    {
     "name": "stdout",
     "output_type": "stream",
     "text": [
      "{40, 50, 30}\n"
     ]
    }
   ],
   "source": [
    "#intersection\n",
    "print(set1.intersection(set2))"
   ]
  },
  {
   "cell_type": "markdown",
   "id": "dda12462",
   "metadata": {},
   "source": [
    "## Function "
   ]
  },
  {
   "cell_type": "markdown",
   "id": "2f7d14ea",
   "metadata": {},
   "source": [
    "### built-in function"
   ]
  },
  {
   "cell_type": "code",
   "execution_count": 20,
   "id": "1621468c",
   "metadata": {},
   "outputs": [
    {
     "name": "stdout",
     "output_type": "stream",
     "text": [
      "27\n",
      "5\n"
     ]
    }
   ],
   "source": [
    "var1 = \"Enjoy Your Learning Process\"\n",
    "print(len(var1))\n",
    "var2 = [1,2,3,4,5]\n",
    "print(len(var2))"
   ]
  },
  {
   "cell_type": "markdown",
   "id": "a83528d1",
   "metadata": {},
   "source": [
    "### user-definitive function"
   ]
  },
  {
   "cell_type": "code",
   "execution_count": 21,
   "id": "be2a54f7",
   "metadata": {},
   "outputs": [
    {
     "name": "stdout",
     "output_type": "stream",
     "text": [
      "Result of addition and subtraction:  <function calc at 0x0000020FC5E58040>\n"
     ]
    },
    {
     "data": {
      "text/plain": [
       "(50, 30)"
      ]
     },
     "execution_count": 21,
     "metadata": {},
     "output_type": "execute_result"
    }
   ],
   "source": [
    "#simple calculator function\n",
    "def calc (a, b):\n",
    "    print(\"Result of addition and subtraction: \", calc)\n",
    "    return a+b, a-b\n",
    "#calling the function\n",
    "calc(40,10)"
   ]
  },
  {
   "cell_type": "code",
   "execution_count": 22,
   "id": "77884967",
   "metadata": {},
   "outputs": [
    {
     "name": "stdout",
     "output_type": "stream",
     "text": [
      "enter your words: enjoy your learning process\n"
     ]
    },
    {
     "data": {
      "text/plain": [
       "'ENJOY YOUR LEARNING PROCESS'"
      ]
     },
     "execution_count": 22,
     "metadata": {},
     "output_type": "execute_result"
    }
   ],
   "source": [
    "#convert lowercase to uppercase\n",
    "def response(txt):\n",
    "    return txt.upper()\n",
    "response(input('enter your words: '))"
   ]
  },
  {
   "cell_type": "markdown",
   "id": "6fd83cbc",
   "metadata": {},
   "source": [
    "### Lambda Function "
   ]
  },
  {
   "cell_type": "code",
   "execution_count": 23,
   "id": "dec2665d",
   "metadata": {},
   "outputs": [
    {
     "name": "stdout",
     "output_type": "stream",
     "text": [
      "30\n"
     ]
    }
   ],
   "source": [
    "x = lambda a,b: a*b \n",
    "print(x(5, 6))"
   ]
  },
  {
   "cell_type": "code",
   "execution_count": 24,
   "id": "6095ad48",
   "metadata": {},
   "outputs": [
    {
     "name": "stdout",
     "output_type": "stream",
     "text": [
      "99\n"
     ]
    }
   ],
   "source": [
    "i = 9\n",
    "f = lambda z: z*11 \n",
    "print(f(i))"
   ]
  },
  {
   "cell_type": "markdown",
   "id": "e25eee95",
   "metadata": {},
   "source": [
    "## Conditional IF "
   ]
  },
  {
   "cell_type": "code",
   "execution_count": 25,
   "id": "9b94a90f",
   "metadata": {},
   "outputs": [
    {
     "name": "stdout",
     "output_type": "stream",
     "text": [
      "Enter Number:124368956456543\n",
      "Your Number is Odd\n"
     ]
    }
   ],
   "source": [
    "#number odd even \n",
    "x = int(input('Enter Number:'))\n",
    "if x%2 == 0:\n",
    "    print('Your Number is Even')\n",
    "else:\n",
    "    print('Your Number is Odd')"
   ]
  },
  {
   "cell_type": "markdown",
   "id": "6e0feeec",
   "metadata": {},
   "source": [
    "## Looping"
   ]
  },
  {
   "cell_type": "markdown",
   "id": "7d38c48f",
   "metadata": {},
   "source": [
    "### While Loop "
   ]
  },
  {
   "cell_type": "code",
   "execution_count": 26,
   "id": "83b96e9e",
   "metadata": {},
   "outputs": [
    {
     "name": "stdout",
     "output_type": "stream",
     "text": [
      "0\n",
      "1\n",
      "2\n",
      "3\n",
      "4\n",
      "5\n",
      "6\n",
      "7\n",
      "8\n",
      "9\n"
     ]
    }
   ],
   "source": [
    "x = 0\n",
    "while x < 10:\n",
    "    print(x)\n",
    "    x += 1"
   ]
  },
  {
   "cell_type": "code",
   "execution_count": 27,
   "id": "f7c1dc6e",
   "metadata": {},
   "outputs": [
    {
     "name": "stdout",
     "output_type": "stream",
     "text": [
      "10\n",
      "9\n",
      "8\n",
      "7\n",
      "6\n",
      "5\n",
      "4\n"
     ]
    }
   ],
   "source": [
    "#break\n",
    "x = 10\n",
    "while x > 0:\n",
    "    print(x)\n",
    "    x -= 1\n",
    "    if x == 3:\n",
    "        break"
   ]
  },
  {
   "cell_type": "markdown",
   "id": "76855918",
   "metadata": {},
   "source": [
    "### For Loop "
   ]
  },
  {
   "cell_type": "code",
   "execution_count": 28,
   "id": "bb79d040",
   "metadata": {},
   "outputs": [
    {
     "name": "stdout",
     "output_type": "stream",
     "text": [
      "koala\n",
      "kucing\n",
      "rubah\n",
      "panda\n",
      "tupai\n",
      "kemalasan\n",
      "penguin\n",
      "lumba-lumba\n"
     ]
    }
   ],
   "source": [
    "lst=[\"koala\", \"kucing\", \"rubah\", \"panda\", \"tupai\", \"kemalasan\", \"penguin\", \"lumba-lumba\"]\n",
    "\n",
    "for x in lst:\n",
    "    print(x)"
   ]
  },
  {
   "cell_type": "code",
   "execution_count": 29,
   "id": "c6743510",
   "metadata": {},
   "outputs": [
    {
     "name": "stdout",
     "output_type": "stream",
     "text": [
      "0\n",
      "1\n",
      "2\n",
      "3\n",
      "4\n"
     ]
    }
   ],
   "source": [
    "for x in range(5):\n",
    "    print(x)"
   ]
  },
  {
   "cell_type": "code",
   "execution_count": 30,
   "id": "593d9511",
   "metadata": {},
   "outputs": [
    {
     "name": "stdout",
     "output_type": "stream",
     "text": [
      "0 blue\n",
      "1 red\n",
      "2 green\n",
      "3 yellow\n"
     ]
    }
   ],
   "source": [
    "#accessing items and indexes in list\n",
    "colors = ['blue','red','green','yellow']\n",
    "for index in range(len(colors)):\n",
    "    print(index, colors[index])"
   ]
  },
  {
   "cell_type": "code",
   "execution_count": 31,
   "id": "9eb4ff73",
   "metadata": {},
   "outputs": [
    {
     "name": "stdout",
     "output_type": "stream",
     "text": [
      "0 blue\n",
      "1 red\n",
      "2 green\n",
      "3 yellow\n"
     ]
    }
   ],
   "source": [
    "#another way to accessing items and indexes in list\n",
    "for i, col in enumerate(colors):\n",
    "    print(i,col)"
   ]
  },
  {
   "cell_type": "code",
   "execution_count": null,
   "id": "2ccaf0de",
   "metadata": {},
   "outputs": [],
   "source": []
  }
 ],
 "metadata": {
  "kernelspec": {
   "display_name": "Python 3 (ipykernel)",
   "language": "python",
   "name": "python3"
  },
  "language_info": {
   "codemirror_mode": {
    "name": "ipython",
    "version": 3
   },
   "file_extension": ".py",
   "mimetype": "text/x-python",
   "name": "python",
   "nbconvert_exporter": "python",
   "pygments_lexer": "ipython3",
   "version": "3.9.7"
  }
 },
 "nbformat": 4,
 "nbformat_minor": 5
}
